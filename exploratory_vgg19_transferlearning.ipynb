{
  "metadata": {
    "kernelspec": {
      "language": "python",
      "display_name": "Python 3",
      "name": "python3"
    },
    "language_info": {
      "name": "python",
      "version": "3.7.10",
      "mimetype": "text/x-python",
      "codemirror_mode": {
        "name": "ipython",
        "version": 3
      },
      "pygments_lexer": "ipython3",
      "nbconvert_exporter": "python",
      "file_extension": ".py"
    },
    "colab": {
      "provenance": [],
      "include_colab_link": true
    }
  },
  "nbformat_minor": 0,
  "nbformat": 4,
  "cells": [
    {
      "cell_type": "markdown",
      "metadata": {
        "id": "view-in-github",
        "colab_type": "text"
      },
      "source": [
        "<a href=\"https://colab.research.google.com/github/IcedRay/P08_competition_kaggle/blob/Cleaning-up/exploratory_vgg19_transferlearning.ipynb\" target=\"_parent\"><img src=\"https://colab.research.google.com/assets/colab-badge.svg\" alt=\"Open In Colab\"/></a>"
      ]
    },
    {
      "cell_type": "markdown",
      "source": [
        "#Using VGG19 and Fune-tuning  for the dataset"
      ],
      "metadata": {
        "id": "boCebrTALugH"
      }
    },
    {
      "cell_type": "markdown",
      "source": [
        "#Imports and Data loading"
      ],
      "metadata": {
        "id": "F3MBwZOQL6oZ"
      }
    },
    {
      "cell_type": "code",
      "source": [
        "import os\n",
        "import gc\n",
        "import numpy as np\n",
        "import pandas as pd\n",
        "import tensorflow as tf\n",
        "import matplotlib.pyplot as plt\n",
        "from tensorflow import keras\n",
        "from tensorflow.keras import layers\n",
        "from tensorflow.keras.models import Sequential"
      ],
      "metadata": {
        "execution": {
          "iopub.status.busy": "2023-01-12T13:40:45.112764Z",
          "iopub.execute_input": "2023-01-12T13:40:45.113166Z",
          "iopub.status.idle": "2023-01-12T13:40:55.315626Z",
          "shell.execute_reply.started": "2023-01-12T13:40:45.113087Z",
          "shell.execute_reply": "2023-01-12T13:40:55.314838Z"
        },
        "trusted": true,
        "id": "bum3T3pDKNRv",
        "outputId": "00a48918-aed5-4ad8-a37a-9fe3c93ebfc3"
      },
      "execution_count": null,
      "outputs": [
        {
          "name": "stderr",
          "text": "2023-01-12 13:40:46.517157: I tensorflow/stream_executor/platform/default/dso_loader.cc:49] Successfully opened dynamic library libcudart.so.11.0\n",
          "output_type": "stream"
        }
      ]
    },
    {
      "cell_type": "code",
      "source": [
        "# Get current working directory\n",
        "current_dir = os.getcwd() \n",
        "\n",
        "# Append data/mnist.npz to the previous path to get the full path\n",
        "data_path = \"/kaggle/input/rsna-breast-cancer-detection/train_images\""
      ],
      "metadata": {
        "execution": {
          "iopub.status.busy": "2023-01-12T13:40:55.317167Z",
          "iopub.execute_input": "2023-01-12T13:40:55.317904Z",
          "iopub.status.idle": "2023-01-12T13:40:55.321441Z",
          "shell.execute_reply.started": "2023-01-12T13:40:55.317874Z",
          "shell.execute_reply": "2023-01-12T13:40:55.320648Z"
        },
        "trusted": true,
        "id": "ATKLqIhFKNRz"
      },
      "execution_count": null,
      "outputs": []
    },
    {
      "cell_type": "markdown",
      "source": [
        "We are going to normalise the pixel value between -1 and 1 (i may have an importance or not)"
      ],
      "metadata": {
        "id": "uxI7M9uzL6pb"
      }
    },
    {
      "cell_type": "code",
      "source": [
        "def reshape_and_normalize(images):\n",
        "    \"\"\"Input : image array \n",
        "    Resize & normalize pixel value\n",
        "    Output : image array \n",
        "    \"\"\"\n",
        "    # If we wanted to reshape we would add the value here\n",
        "    # images = images[..., np.newaxis]\n",
        "    # Normalize pixel values\n",
        "    images = images  / 255.0\n",
        "    return images"
      ],
      "metadata": {
        "execution": {
          "iopub.status.busy": "2023-01-12T13:40:55.322741Z",
          "iopub.execute_input": "2023-01-12T13:40:55.323451Z",
          "iopub.status.idle": "2023-01-12T13:40:55.347865Z",
          "shell.execute_reply.started": "2023-01-12T13:40:55.323417Z",
          "shell.execute_reply": "2023-01-12T13:40:55.347223Z"
        },
        "trusted": true,
        "id": "_IxCOv6TKNR0"
      },
      "execution_count": null,
      "outputs": []
    },
    {
      "cell_type": "code",
      "source": [
        "train_csv = pd.read_csv(\"/kaggle/input/rsna-breast-cancer-detection/train.csv\")\n",
        "test_csv = pd.read_csv(\"/kaggle/input/rsna-breast-cancer-detection/test.csv\")"
      ],
      "metadata": {
        "execution": {
          "iopub.status.busy": "2023-01-12T13:40:55.350919Z",
          "iopub.execute_input": "2023-01-12T13:40:55.351149Z",
          "iopub.status.idle": "2023-01-12T13:40:55.484855Z",
          "shell.execute_reply.started": "2023-01-12T13:40:55.351118Z",
          "shell.execute_reply": "2023-01-12T13:40:55.484144Z"
        },
        "trusted": true,
        "id": "1l-s3VAOKNR1"
      },
      "execution_count": null,
      "outputs": []
    },
    {
      "cell_type": "markdown",
      "source": [
        "##Quick Data exploration"
      ],
      "metadata": {
        "id": "RV7cW-EuMfnk"
      }
    },
    {
      "cell_type": "code",
      "source": [
        "train_csv"
      ],
      "metadata": {
        "execution": {
          "iopub.status.busy": "2023-01-12T13:40:55.486709Z",
          "iopub.execute_input": "2023-01-12T13:40:55.486909Z",
          "iopub.status.idle": "2023-01-12T13:40:55.530013Z",
          "shell.execute_reply.started": "2023-01-12T13:40:55.486886Z",
          "shell.execute_reply": "2023-01-12T13:40:55.529293Z"
        },
        "trusted": true,
        "id": "mN2w7WjFKNR2",
        "outputId": "82e5953b-b672-4bf3-cef5-f84140a535a8"
      },
      "execution_count": null,
      "outputs": [
        {
          "execution_count": 5,
          "output_type": "execute_result",
          "data": {
            "text/plain": "       site_id  patient_id    image_id laterality view   age  cancer  biopsy  \\\n0            2       10006   462822612          L   CC  61.0       0       0   \n1            2       10006  1459541791          L  MLO  61.0       0       0   \n2            2       10006  1864590858          R  MLO  61.0       0       0   \n3            2       10006  1874946579          R   CC  61.0       0       0   \n4            2       10011   220375232          L   CC  55.0       0       0   \n...        ...         ...         ...        ...  ...   ...     ...     ...   \n54701        1        9973  1729524723          R  MLO  43.0       0       0   \n54702        1        9989    63473691          L  MLO  60.0       0       0   \n54703        1        9989  1078943060          L   CC  60.0       0       0   \n54704        1        9989   398038886          R  MLO  60.0       0       0   \n54705        1        9989   439796429          R   CC  60.0       0       0   \n\n       invasive  BIRADS  implant density  machine_id  difficult_negative_case  \n0             0     NaN        0     NaN          29                    False  \n1             0     NaN        0     NaN          29                    False  \n2             0     NaN        0     NaN          29                    False  \n3             0     NaN        0     NaN          29                    False  \n4             0     0.0        0     NaN          21                     True  \n...         ...     ...      ...     ...         ...                      ...  \n54701         0     1.0        0       C          49                    False  \n54702         0     NaN        0       C         216                    False  \n54703         0     NaN        0       C         216                    False  \n54704         0     0.0        0       C         216                     True  \n54705         0     0.0        0       C         216                     True  \n\n[54706 rows x 14 columns]",
            "text/html": "<div>\n<style scoped>\n    .dataframe tbody tr th:only-of-type {\n        vertical-align: middle;\n    }\n\n    .dataframe tbody tr th {\n        vertical-align: top;\n    }\n\n    .dataframe thead th {\n        text-align: right;\n    }\n</style>\n<table border=\"1\" class=\"dataframe\">\n  <thead>\n    <tr style=\"text-align: right;\">\n      <th></th>\n      <th>site_id</th>\n      <th>patient_id</th>\n      <th>image_id</th>\n      <th>laterality</th>\n      <th>view</th>\n      <th>age</th>\n      <th>cancer</th>\n      <th>biopsy</th>\n      <th>invasive</th>\n      <th>BIRADS</th>\n      <th>implant</th>\n      <th>density</th>\n      <th>machine_id</th>\n      <th>difficult_negative_case</th>\n    </tr>\n  </thead>\n  <tbody>\n    <tr>\n      <th>0</th>\n      <td>2</td>\n      <td>10006</td>\n      <td>462822612</td>\n      <td>L</td>\n      <td>CC</td>\n      <td>61.0</td>\n      <td>0</td>\n      <td>0</td>\n      <td>0</td>\n      <td>NaN</td>\n      <td>0</td>\n      <td>NaN</td>\n      <td>29</td>\n      <td>False</td>\n    </tr>\n    <tr>\n      <th>1</th>\n      <td>2</td>\n      <td>10006</td>\n      <td>1459541791</td>\n      <td>L</td>\n      <td>MLO</td>\n      <td>61.0</td>\n      <td>0</td>\n      <td>0</td>\n      <td>0</td>\n      <td>NaN</td>\n      <td>0</td>\n      <td>NaN</td>\n      <td>29</td>\n      <td>False</td>\n    </tr>\n    <tr>\n      <th>2</th>\n      <td>2</td>\n      <td>10006</td>\n      <td>1864590858</td>\n      <td>R</td>\n      <td>MLO</td>\n      <td>61.0</td>\n      <td>0</td>\n      <td>0</td>\n      <td>0</td>\n      <td>NaN</td>\n      <td>0</td>\n      <td>NaN</td>\n      <td>29</td>\n      <td>False</td>\n    </tr>\n    <tr>\n      <th>3</th>\n      <td>2</td>\n      <td>10006</td>\n      <td>1874946579</td>\n      <td>R</td>\n      <td>CC</td>\n      <td>61.0</td>\n      <td>0</td>\n      <td>0</td>\n      <td>0</td>\n      <td>NaN</td>\n      <td>0</td>\n      <td>NaN</td>\n      <td>29</td>\n      <td>False</td>\n    </tr>\n    <tr>\n      <th>4</th>\n      <td>2</td>\n      <td>10011</td>\n      <td>220375232</td>\n      <td>L</td>\n      <td>CC</td>\n      <td>55.0</td>\n      <td>0</td>\n      <td>0</td>\n      <td>0</td>\n      <td>0.0</td>\n      <td>0</td>\n      <td>NaN</td>\n      <td>21</td>\n      <td>True</td>\n    </tr>\n    <tr>\n      <th>...</th>\n      <td>...</td>\n      <td>...</td>\n      <td>...</td>\n      <td>...</td>\n      <td>...</td>\n      <td>...</td>\n      <td>...</td>\n      <td>...</td>\n      <td>...</td>\n      <td>...</td>\n      <td>...</td>\n      <td>...</td>\n      <td>...</td>\n      <td>...</td>\n    </tr>\n    <tr>\n      <th>54701</th>\n      <td>1</td>\n      <td>9973</td>\n      <td>1729524723</td>\n      <td>R</td>\n      <td>MLO</td>\n      <td>43.0</td>\n      <td>0</td>\n      <td>0</td>\n      <td>0</td>\n      <td>1.0</td>\n      <td>0</td>\n      <td>C</td>\n      <td>49</td>\n      <td>False</td>\n    </tr>\n    <tr>\n      <th>54702</th>\n      <td>1</td>\n      <td>9989</td>\n      <td>63473691</td>\n      <td>L</td>\n      <td>MLO</td>\n      <td>60.0</td>\n      <td>0</td>\n      <td>0</td>\n      <td>0</td>\n      <td>NaN</td>\n      <td>0</td>\n      <td>C</td>\n      <td>216</td>\n      <td>False</td>\n    </tr>\n    <tr>\n      <th>54703</th>\n      <td>1</td>\n      <td>9989</td>\n      <td>1078943060</td>\n      <td>L</td>\n      <td>CC</td>\n      <td>60.0</td>\n      <td>0</td>\n      <td>0</td>\n      <td>0</td>\n      <td>NaN</td>\n      <td>0</td>\n      <td>C</td>\n      <td>216</td>\n      <td>False</td>\n    </tr>\n    <tr>\n      <th>54704</th>\n      <td>1</td>\n      <td>9989</td>\n      <td>398038886</td>\n      <td>R</td>\n      <td>MLO</td>\n      <td>60.0</td>\n      <td>0</td>\n      <td>0</td>\n      <td>0</td>\n      <td>0.0</td>\n      <td>0</td>\n      <td>C</td>\n      <td>216</td>\n      <td>True</td>\n    </tr>\n    <tr>\n      <th>54705</th>\n      <td>1</td>\n      <td>9989</td>\n      <td>439796429</td>\n      <td>R</td>\n      <td>CC</td>\n      <td>60.0</td>\n      <td>0</td>\n      <td>0</td>\n      <td>0</td>\n      <td>0.0</td>\n      <td>0</td>\n      <td>C</td>\n      <td>216</td>\n      <td>True</td>\n    </tr>\n  </tbody>\n</table>\n<p>54706 rows × 14 columns</p>\n</div>"
          },
          "metadata": {}
        }
      ]
    },
    {
      "cell_type": "markdown",
      "source": [
        "A few nan value but  nothing special beyond that"
      ],
      "metadata": {
        "id": "NzVQMgxiMsXE"
      }
    },
    {
      "cell_type": "code",
      "source": [
        "test_csv"
      ],
      "metadata": {
        "execution": {
          "iopub.status.busy": "2023-01-12T13:40:55.532799Z",
          "iopub.execute_input": "2023-01-12T13:40:55.533008Z",
          "iopub.status.idle": "2023-01-12T13:40:55.546144Z",
          "shell.execute_reply.started": "2023-01-12T13:40:55.532983Z",
          "shell.execute_reply": "2023-01-12T13:40:55.545247Z"
        },
        "trusted": true,
        "id": "WIhXX-DUKNR3",
        "outputId": "0cb804bb-0667-435a-a505-be609719c5b1"
      },
      "execution_count": null,
      "outputs": [
        {
          "execution_count": 6,
          "output_type": "execute_result",
          "data": {
            "text/plain": "   site_id  patient_id    image_id laterality view  age  implant  machine_id  \\\n0        2       10008   736471439          L  MLO   81        0          21   \n1        2       10008  1591370361          L   CC   81        0          21   \n2        2       10008    68070693          R  MLO   81        0          21   \n3        2       10008   361203119          R   CC   81        0          21   \n\n  prediction_id  \n0       10008_L  \n1       10008_L  \n2       10008_R  \n3       10008_R  ",
            "text/html": "<div>\n<style scoped>\n    .dataframe tbody tr th:only-of-type {\n        vertical-align: middle;\n    }\n\n    .dataframe tbody tr th {\n        vertical-align: top;\n    }\n\n    .dataframe thead th {\n        text-align: right;\n    }\n</style>\n<table border=\"1\" class=\"dataframe\">\n  <thead>\n    <tr style=\"text-align: right;\">\n      <th></th>\n      <th>site_id</th>\n      <th>patient_id</th>\n      <th>image_id</th>\n      <th>laterality</th>\n      <th>view</th>\n      <th>age</th>\n      <th>implant</th>\n      <th>machine_id</th>\n      <th>prediction_id</th>\n    </tr>\n  </thead>\n  <tbody>\n    <tr>\n      <th>0</th>\n      <td>2</td>\n      <td>10008</td>\n      <td>736471439</td>\n      <td>L</td>\n      <td>MLO</td>\n      <td>81</td>\n      <td>0</td>\n      <td>21</td>\n      <td>10008_L</td>\n    </tr>\n    <tr>\n      <th>1</th>\n      <td>2</td>\n      <td>10008</td>\n      <td>1591370361</td>\n      <td>L</td>\n      <td>CC</td>\n      <td>81</td>\n      <td>0</td>\n      <td>21</td>\n      <td>10008_L</td>\n    </tr>\n    <tr>\n      <th>2</th>\n      <td>2</td>\n      <td>10008</td>\n      <td>68070693</td>\n      <td>R</td>\n      <td>MLO</td>\n      <td>81</td>\n      <td>0</td>\n      <td>21</td>\n      <td>10008_R</td>\n    </tr>\n    <tr>\n      <th>3</th>\n      <td>2</td>\n      <td>10008</td>\n      <td>361203119</td>\n      <td>R</td>\n      <td>CC</td>\n      <td>81</td>\n      <td>0</td>\n      <td>21</td>\n      <td>10008_R</td>\n    </tr>\n  </tbody>\n</table>\n</div>"
          },
          "metadata": {}
        }
      ]
    },
    {
      "cell_type": "markdown",
      "source": [
        "A single patient as a test , it shouldn't require much preprocessing, let's watch the columns closer"
      ],
      "metadata": {
        "id": "s9zb1vlDODZf"
      }
    },
    {
      "cell_type": "code",
      "source": [
        "train_csv.columns"
      ],
      "metadata": {
        "execution": {
          "iopub.status.busy": "2023-01-12T13:40:55.547406Z",
          "iopub.execute_input": "2023-01-12T13:40:55.548213Z",
          "iopub.status.idle": "2023-01-12T13:40:55.557480Z",
          "shell.execute_reply.started": "2023-01-12T13:40:55.548173Z",
          "shell.execute_reply": "2023-01-12T13:40:55.556510Z"
        },
        "trusted": true,
        "id": "f0Jf6IyqKNR3",
        "outputId": "c2075617-6a9f-498e-ea6b-454775f8cb97"
      },
      "execution_count": null,
      "outputs": [
        {
          "execution_count": 7,
          "output_type": "execute_result",
          "data": {
            "text/plain": "Index(['site_id', 'patient_id', 'image_id', 'laterality', 'view', 'age',\n       'cancer', 'biopsy', 'invasive', 'BIRADS', 'implant', 'density',\n       'machine_id', 'difficult_negative_case'],\n      dtype='object')"
          },
          "metadata": {}
        }
      ]
    },
    {
      "cell_type": "markdown",
      "source": [
        "Our target value is cancer, since it might be binary , let's watch the distribution"
      ],
      "metadata": {
        "id": "bJ2grrFQOxxr"
      }
    },
    {
      "cell_type": "code",
      "source": [
        "train_csv.cancer.value_counts()"
      ],
      "metadata": {
        "execution": {
          "iopub.status.busy": "2023-01-12T13:40:55.559138Z",
          "iopub.execute_input": "2023-01-12T13:40:55.559559Z",
          "iopub.status.idle": "2023-01-12T13:40:55.574522Z",
          "shell.execute_reply.started": "2023-01-12T13:40:55.559525Z",
          "shell.execute_reply": "2023-01-12T13:40:55.573512Z"
        },
        "trusted": true,
        "id": "IbNGAVIBKNR4",
        "outputId": "ef1506fd-fb05-46fe-8eec-d9e5ebc15d1c"
      },
      "execution_count": null,
      "outputs": [
        {
          "execution_count": 8,
          "output_type": "execute_result",
          "data": {
            "text/plain": "0    53548\n1     1158\nName: cancer, dtype: int64"
          },
          "metadata": {}
        }
      ]
    },
    {
      "cell_type": "markdown",
      "source": [
        "Very imbalanced dataset, This often requires oversampling and undersampling , we will explore the undersampling route.\n",
        "\n"
      ],
      "metadata": {
        "id": "bmMXl5DeOL0j"
      }
    },
    {
      "cell_type": "code",
      "source": [
        "len(set(train_csv.patient_id))"
      ],
      "metadata": {
        "execution": {
          "iopub.status.busy": "2023-01-12T13:40:55.576102Z",
          "iopub.execute_input": "2023-01-12T13:40:55.576502Z",
          "iopub.status.idle": "2023-01-12T13:40:55.592877Z",
          "shell.execute_reply.started": "2023-01-12T13:40:55.576470Z",
          "shell.execute_reply": "2023-01-12T13:40:55.591958Z"
        },
        "trusted": true,
        "id": "ilESruW-KNR4",
        "outputId": "c2376bc7-2a13-4630-c0f2-ff0fda6c3253"
      },
      "execution_count": null,
      "outputs": [
        {
          "execution_count": 9,
          "output_type": "execute_result",
          "data": {
            "text/plain": "11913"
          },
          "metadata": {}
        }
      ]
    },
    {
      "cell_type": "markdown",
      "source": [
        "11913 different people, it might be a good idea to futher explore by separating by individual person in the future"
      ],
      "metadata": {
        "id": "xQvI0bntOpV2"
      }
    },
    {
      "cell_type": "code",
      "source": [
        "train_csv.age.hist()"
      ],
      "metadata": {
        "execution": {
          "iopub.status.busy": "2023-01-12T13:40:55.597176Z",
          "iopub.execute_input": "2023-01-12T13:40:55.597402Z",
          "iopub.status.idle": "2023-01-12T13:40:55.908611Z",
          "shell.execute_reply.started": "2023-01-12T13:40:55.597376Z",
          "shell.execute_reply": "2023-01-12T13:40:55.907930Z"
        },
        "trusted": true,
        "id": "niTlCYzjKNR5",
        "outputId": "4260613b-9e60-4fc1-fd8e-e166b44c9504"
      },
      "execution_count": null,
      "outputs": [
        {
          "execution_count": 10,
          "output_type": "execute_result",
          "data": {
            "text/plain": "<AxesSubplot:>"
          },
          "metadata": {}
        },
        {
          "output_type": "display_data",
          "data": {
            "text/plain": "<Figure size 432x288 with 1 Axes>",
            "image/png": "[encoded data removed]"
          },
          "metadata": {
            "needs_background": "light"
          }
        }
      ]
    },
    {
      "cell_type": "markdown",
      "source": [
        "The average age is centered around 60, but given that many women get a mamograph around that age and not earlier we don't know if this data is relevant of biased, but it may be an dinteresting data to include."
      ],
      "metadata": {
        "id": "Iess8VN3PQQJ"
      }
    },
    {
      "cell_type": "code",
      "source": [
        "train_csv.laterality.value_counts()"
      ],
      "metadata": {
        "execution": {
          "iopub.status.busy": "2023-01-12T13:40:55.909791Z",
          "iopub.execute_input": "2023-01-12T13:40:55.910027Z",
          "iopub.status.idle": "2023-01-12T13:40:55.923313Z",
          "shell.execute_reply.started": "2023-01-12T13:40:55.909996Z",
          "shell.execute_reply": "2023-01-12T13:40:55.922608Z"
        },
        "trusted": true,
        "id": "r28OyBvXKNR6",
        "outputId": "c3ed37f9-f14e-4a82-a730-dd48362fac6d"
      },
      "execution_count": null,
      "outputs": [
        {
          "execution_count": 11,
          "output_type": "execute_result",
          "data": {
            "text/plain": "R    27439\nL    27267\nName: laterality, dtype: int64"
          },
          "metadata": {}
        }
      ]
    },
    {
      "cell_type": "markdown",
      "source": [
        "We have about the same amount of left view and right view."
      ],
      "metadata": {
        "id": "5Nw3IbHLPoFv"
      }
    },
    {
      "cell_type": "markdown",
      "source": [
        "#Dataset preparation"
      ],
      "metadata": {
        "id": "xyjKGMA5Pu91"
      }
    },
    {
      "cell_type": "markdown",
      "source": [
        "##Undersampling"
      ],
      "metadata": {
        "id": "QwoIbjjkRRws"
      }
    },
    {
      "cell_type": "code",
      "source": [
        "#Creating subsets for each outcome\n",
        "train_subset_0 = train_csv[train_csv.cancer == 0]\n",
        "train_subset_1 = train_csv[train_csv.cancer == 1]\n",
        "\n",
        "print(train_subset_0.shape, train_subset_1.shape)\n",
        "print(train_subset_0.laterality.value_counts())\n",
        "print(train_subset_1.laterality.value_counts())"
      ],
      "metadata": {
        "execution": {
          "iopub.status.busy": "2023-01-12T13:40:55.926159Z",
          "iopub.execute_input": "2023-01-12T13:40:55.926361Z",
          "iopub.status.idle": "2023-01-12T13:40:55.993150Z",
          "shell.execute_reply.started": "2023-01-12T13:40:55.926333Z",
          "shell.execute_reply": "2023-01-12T13:40:55.992367Z"
        },
        "trusted": true,
        "id": "8ikc7kheKNR6",
        "outputId": "c6a189e3-4898-419a-c7b0-8a35900b5896"
      },
      "execution_count": null,
      "outputs": [
        {
          "name": "stdout",
          "text": "(53548, 14) (1158, 14)\nR    26869\nL    26679\nName: laterality, dtype: int64\nL    588\nR    570\nName: laterality, dtype: int64\n",
          "output_type": "stream"
        }
      ]
    },
    {
      "cell_type": "code",
      "source": [
        "#Undersampling the training dataset by creating a subset (no rendomization)\n",
        "train_subset_0_L = train_subset_0[train_subset_0.laterality == \"L\"].iloc[:588,]\n",
        "train_subset_0_R = train_subset_0[train_subset_0.laterality == \"R\"].iloc[:570,]\n",
        "train_subset_main = pd.concat([train_subset_0_L, train_subset_0_R, train_subset_1])"
      ],
      "metadata": {
        "execution": {
          "iopub.status.busy": "2023-01-12T13:40:55.994432Z",
          "iopub.execute_input": "2023-01-12T13:40:55.994698Z",
          "iopub.status.idle": "2023-01-12T13:40:56.020507Z",
          "shell.execute_reply.started": "2023-01-12T13:40:55.994656Z",
          "shell.execute_reply": "2023-01-12T13:40:56.019801Z"
        },
        "trusted": true,
        "id": "jMMBBH_-KNR6"
      },
      "execution_count": null,
      "outputs": []
    },
    {
      "cell_type": "code",
      "source": [
        "train_subset_main"
      ],
      "metadata": {
        "execution": {
          "iopub.status.busy": "2023-01-12T13:40:56.022899Z",
          "iopub.execute_input": "2023-01-12T13:40:56.023158Z",
          "iopub.status.idle": "2023-01-12T13:40:56.051819Z",
          "shell.execute_reply.started": "2023-01-12T13:40:56.023129Z",
          "shell.execute_reply": "2023-01-12T13:40:56.051042Z"
        },
        "trusted": true,
        "id": "sHoDQ84YKNR7",
        "outputId": "1fbc3555-0c36-49a6-f10d-b63625eddcb4"
      },
      "execution_count": null,
      "outputs": [
        {
          "execution_count": 14,
          "output_type": "execute_result",
          "data": {
            "text/plain": "       site_id  patient_id    image_id laterality view   age  cancer  biopsy  \\\n0            2       10006   462822612          L   CC  61.0       0       0   \n1            2       10006  1459541791          L  MLO  61.0       0       0   \n4            2       10011   220375232          L   CC  55.0       0       0   \n5            2       10011   270344397          L  MLO  55.0       0       0   \n8            2       10025   562340703          L   CC  75.0       0       0   \n...        ...         ...         ...        ...  ...   ...     ...     ...   \n54485        2        9707  1900919592          R  MLO  56.0       1       1   \n54593        2        9840   111786935          R  MLO  59.0       1       1   \n54594        2        9840  1559360810          R   CC  59.0       1       1   \n54595        2        9851  1409270544          L  MLO  58.0       1       1   \n54596        2        9851  1434430689          L   CC  58.0       1       1   \n\n       invasive  BIRADS  implant density  machine_id  difficult_negative_case  \n0             0     NaN        0     NaN          29                    False  \n1             0     NaN        0     NaN          29                    False  \n4             0     0.0        0     NaN          21                     True  \n5             0     0.0        0     NaN          21                     True  \n8             0     NaN        0     NaN          29                    False  \n...         ...     ...      ...     ...         ...                      ...  \n54485         1     NaN        0     NaN          21                    False  \n54593         1     NaN        0     NaN          21                    False  \n54594         1     NaN        0     NaN          21                    False  \n54595         0     NaN        0     NaN          48                    False  \n54596         0     NaN        0     NaN          48                    False  \n\n[2316 rows x 14 columns]",
            "text/html": "<div>\n<style scoped>\n    .dataframe tbody tr th:only-of-type {\n        vertical-align: middle;\n    }\n\n    .dataframe tbody tr th {\n        vertical-align: top;\n    }\n\n    .dataframe thead th {\n        text-align: right;\n    }\n</style>\n<table border=\"1\" class=\"dataframe\">\n  <thead>\n    <tr style=\"text-align: right;\">\n      <th></th>\n      <th>site_id</th>\n      <th>patient_id</th>\n      <th>image_id</th>\n      <th>laterality</th>\n      <th>view</th>\n      <th>age</th>\n      <th>cancer</th>\n      <th>biopsy</th>\n      <th>invasive</th>\n      <th>BIRADS</th>\n      <th>implant</th>\n      <th>density</th>\n      <th>machine_id</th>\n      <th>difficult_negative_case</th>\n    </tr>\n  </thead>\n  <tbody>\n    <tr>\n      <th>0</th>\n      <td>2</td>\n      <td>10006</td>\n      <td>462822612</td>\n      <td>L</td>\n      <td>CC</td>\n      <td>61.0</td>\n      <td>0</td>\n      <td>0</td>\n      <td>0</td>\n      <td>NaN</td>\n      <td>0</td>\n      <td>NaN</td>\n      <td>29</td>\n      <td>False</td>\n    </tr>\n    <tr>\n      <th>1</th>\n      <td>2</td>\n      <td>10006</td>\n      <td>1459541791</td>\n      <td>L</td>\n      <td>MLO</td>\n      <td>61.0</td>\n      <td>0</td>\n      <td>0</td>\n      <td>0</td>\n      <td>NaN</td>\n      <td>0</td>\n      <td>NaN</td>\n      <td>29</td>\n      <td>False</td>\n    </tr>\n    <tr>\n      <th>4</th>\n      <td>2</td>\n      <td>10011</td>\n      <td>220375232</td>\n      <td>L</td>\n      <td>CC</td>\n      <td>55.0</td>\n      <td>0</td>\n      <td>0</td>\n      <td>0</td>\n      <td>0.0</td>\n      <td>0</td>\n      <td>NaN</td>\n      <td>21</td>\n      <td>True</td>\n    </tr>\n    <tr>\n      <th>5</th>\n      <td>2</td>\n      <td>10011</td>\n      <td>270344397</td>\n      <td>L</td>\n      <td>MLO</td>\n      <td>55.0</td>\n      <td>0</td>\n      <td>0</td>\n      <td>0</td>\n      <td>0.0</td>\n      <td>0</td>\n      <td>NaN</td>\n      <td>21</td>\n      <td>True</td>\n    </tr>\n    <tr>\n      <th>8</th>\n      <td>2</td>\n      <td>10025</td>\n      <td>562340703</td>\n      <td>L</td>\n      <td>CC</td>\n      <td>75.0</td>\n      <td>0</td>\n      <td>0</td>\n      <td>0</td>\n      <td>NaN</td>\n      <td>0</td>\n      <td>NaN</td>\n      <td>29</td>\n      <td>False</td>\n    </tr>\n    <tr>\n      <th>...</th>\n      <td>...</td>\n      <td>...</td>\n      <td>...</td>\n      <td>...</td>\n      <td>...</td>\n      <td>...</td>\n      <td>...</td>\n      <td>...</td>\n      <td>...</td>\n      <td>...</td>\n      <td>...</td>\n      <td>...</td>\n      <td>...</td>\n      <td>...</td>\n    </tr>\n    <tr>\n      <th>54485</th>\n      <td>2</td>\n      <td>9707</td>\n      <td>1900919592</td>\n      <td>R</td>\n      <td>MLO</td>\n      <td>56.0</td>\n      <td>1</td>\n      <td>1</td>\n      <td>1</td>\n      <td>NaN</td>\n      <td>0</td>\n      <td>NaN</td>\n      <td>21</td>\n      <td>False</td>\n    </tr>\n    <tr>\n      <th>54593</th>\n      <td>2</td>\n      <td>9840</td>\n      <td>111786935</td>\n      <td>R</td>\n      <td>MLO</td>\n      <td>59.0</td>\n      <td>1</td>\n      <td>1</td>\n      <td>1</td>\n      <td>NaN</td>\n      <td>0</td>\n      <td>NaN</td>\n      <td>21</td>\n      <td>False</td>\n    </tr>\n    <tr>\n      <th>54594</th>\n      <td>2</td>\n      <td>9840</td>\n      <td>1559360810</td>\n      <td>R</td>\n      <td>CC</td>\n      <td>59.0</td>\n      <td>1</td>\n      <td>1</td>\n      <td>1</td>\n      <td>NaN</td>\n      <td>0</td>\n      <td>NaN</td>\n      <td>21</td>\n      <td>False</td>\n    </tr>\n    <tr>\n      <th>54595</th>\n      <td>2</td>\n      <td>9851</td>\n      <td>1409270544</td>\n      <td>L</td>\n      <td>MLO</td>\n      <td>58.0</td>\n      <td>1</td>\n      <td>1</td>\n      <td>0</td>\n      <td>NaN</td>\n      <td>0</td>\n      <td>NaN</td>\n      <td>48</td>\n      <td>False</td>\n    </tr>\n    <tr>\n      <th>54596</th>\n      <td>2</td>\n      <td>9851</td>\n      <td>1434430689</td>\n      <td>L</td>\n      <td>CC</td>\n      <td>58.0</td>\n      <td>1</td>\n      <td>1</td>\n      <td>0</td>\n      <td>NaN</td>\n      <td>0</td>\n      <td>NaN</td>\n      <td>48</td>\n      <td>False</td>\n    </tr>\n  </tbody>\n</table>\n<p>2316 rows × 14 columns</p>\n</div>"
          },
          "metadata": {}
        }
      ]
    },
    {
      "cell_type": "code",
      "source": [
        "train_subset_main.laterality.value_counts()"
      ],
      "metadata": {
        "execution": {
          "iopub.status.busy": "2023-01-12T13:40:56.053065Z",
          "iopub.execute_input": "2023-01-12T13:40:56.053341Z",
          "iopub.status.idle": "2023-01-12T13:40:56.060294Z",
          "shell.execute_reply.started": "2023-01-12T13:40:56.053308Z",
          "shell.execute_reply": "2023-01-12T13:40:56.059510Z"
        },
        "trusted": true,
        "id": "-46CGA9hKNR7",
        "outputId": "7f132d14-5ccc-4e96-a33b-5a49f6422e1a"
      },
      "execution_count": null,
      "outputs": [
        {
          "execution_count": 15,
          "output_type": "execute_result",
          "data": {
            "text/plain": "L    1176\nR    1140\nName: laterality, dtype: int64"
          },
          "metadata": {}
        }
      ]
    },
    {
      "cell_type": "code",
      "source": [
        "train_subset_main.shape"
      ],
      "metadata": {
        "execution": {
          "iopub.status.busy": "2023-01-12T13:40:56.061829Z",
          "iopub.execute_input": "2023-01-12T13:40:56.062370Z",
          "iopub.status.idle": "2023-01-12T13:40:56.074084Z",
          "shell.execute_reply.started": "2023-01-12T13:40:56.062332Z",
          "shell.execute_reply": "2023-01-12T13:40:56.073133Z"
        },
        "trusted": true,
        "id": "_xyDBYrDKNR7",
        "outputId": "d08b0e18-8f94-4f92-dd0c-2c66c28d31e4"
      },
      "execution_count": null,
      "outputs": [
        {
          "execution_count": 16,
          "output_type": "execute_result",
          "data": {
            "text/plain": "(2316, 14)"
          },
          "metadata": {}
        }
      ]
    },
    {
      "cell_type": "markdown",
      "source": [
        "##Saving new dataset\n"
      ],
      "metadata": {
        "id": "-byXjIqLRYxW"
      }
    },
    {
      "cell_type": "code",
      "source": [
        "os.mkdir('/kaggle/working/input_transformed/')"
      ],
      "metadata": {
        "execution": {
          "iopub.status.busy": "2023-01-12T13:40:56.075510Z",
          "iopub.execute_input": "2023-01-12T13:40:56.075971Z",
          "iopub.status.idle": "2023-01-12T13:40:56.084875Z",
          "shell.execute_reply.started": "2023-01-12T13:40:56.075935Z",
          "shell.execute_reply": "2023-01-12T13:40:56.083993Z"
        },
        "trusted": true,
        "id": "RL8ilegnKNR8"
      },
      "execution_count": null,
      "outputs": []
    },
    {
      "cell_type": "code",
      "source": [
        "os.mkdir('/kaggle/working/input_transformed/0/')\n",
        "os.mkdir('/kaggle/working/input_transformed/1/')"
      ],
      "metadata": {
        "execution": {
          "iopub.status.busy": "2023-01-12T13:40:56.086162Z",
          "iopub.execute_input": "2023-01-12T13:40:56.086524Z",
          "iopub.status.idle": "2023-01-12T13:40:56.098296Z",
          "shell.execute_reply.started": "2023-01-12T13:40:56.086488Z",
          "shell.execute_reply": "2023-01-12T13:40:56.097480Z"
        },
        "trusted": true,
        "id": "TFnD1dAjKNR8"
      },
      "execution_count": null,
      "outputs": []
    },
    {
      "cell_type": "code",
      "source": [
        "import shutil\n",
        "from tqdm import tqdm\n",
        "# shutil.copyfile(src, dst)"
      ],
      "metadata": {
        "execution": {
          "iopub.status.busy": "2023-01-12T13:40:56.101465Z",
          "iopub.execute_input": "2023-01-12T13:40:56.101676Z",
          "iopub.status.idle": "2023-01-12T13:40:56.111425Z",
          "shell.execute_reply.started": "2023-01-12T13:40:56.101651Z",
          "shell.execute_reply": "2023-01-12T13:40:56.110531Z"
        },
        "trusted": true,
        "id": "iGfRQuwqKNR8"
      },
      "execution_count": null,
      "outputs": []
    },
    {
      "cell_type": "code",
      "source": [
        "from PIL import Image\n",
        "patientid = train_subset_main.patient_id\n",
        "imageid = train_subset_main.image_id\n",
        "hascancer = train_subset_main.cancer\n",
        "for patient_id, image_id, has_cancer in tqdm(zip(patientid, imageid, hascancer)):\n",
        "    tmpFile = str(patient_id) + \"_\" + str(image_id) + \".png\"\n",
        "    tmpSrc = \"/kaggle/input/rsna-breast-cancer-512-pngs/\" + tmpFile\n",
        "    tmpDst = \"/kaggle/working/input_transformed/\" + str(has_cancer) + \"/\" + tmpFile\n",
        "    shutil.copyfile(tmpSrc, tmpDst)\n",
        "    #Loading destination file\n",
        "    img = Image.open(tmpDst)\n",
        "    #Resizing the image to be 255x255 to fit in VGG19, using antialiasing\n",
        "    img = img.resize((255,255), Image.ANTIALIAS)\n",
        "    #Saving to destination file\n",
        "    img.save(tmpDst)"
      ],
      "metadata": {
        "execution": {
          "iopub.status.busy": "2023-01-12T13:40:56.112821Z",
          "iopub.execute_input": "2023-01-12T13:40:56.113258Z",
          "iopub.status.idle": "2023-01-12T13:41:37.467860Z",
          "shell.execute_reply.started": "2023-01-12T13:40:56.113226Z",
          "shell.execute_reply": "2023-01-12T13:41:37.467093Z"
        },
        "trusted": true,
        "id": "P2JX58TpKNR8",
        "outputId": "e635e7d4-2289-4496-8543-e03d12cf0bb6"
      },
      "execution_count": null,
      "outputs": [
        {
          "name": "stderr",
          "text": "2316it [00:41, 56.03it/s]\n",
          "output_type": "stream"
        }
      ]
    },
    {
      "cell_type": "markdown",
      "source": [
        "##Loading the dataset"
      ],
      "metadata": {
        "id": "vOMD9LSWbHpB"
      }
    },
    {
      "cell_type": "code",
      "source": [
        "train_ds = tf.keras.preprocessing.image_dataset_from_directory(\n",
        "    \"/kaggle/working/input_transformed/\",\n",
        "    color_mode='rgb',\n",
        "    image_size=(255, 255),\n",
        "    shuffle=True,\n",
        "    validation_split=0.2,\n",
        "    subset=\"training\",\n",
        "    seed=42,\n",
        ")"
      ],
      "metadata": {
        "execution": {
          "iopub.status.busy": "2023-01-12T13:41:37.469225Z",
          "iopub.execute_input": "2023-01-12T13:41:37.469641Z",
          "iopub.status.idle": "2023-01-12T13:41:41.681588Z",
          "shell.execute_reply.started": "2023-01-12T13:41:37.469604Z",
          "shell.execute_reply": "2023-01-12T13:41:41.680813Z"
        },
        "trusted": true,
        "id": "s7BwvPyUKNR9",
        "outputId": "24f1b65e-6974-4c2e-f4a0-a885e988bc83"
      },
      "execution_count": null,
      "outputs": [
        {
          "name": "stdout",
          "text": "Found 2316 files belonging to 2 classes.\nUsing 1853 files for training.\n",
          "output_type": "stream"
        },
        {
          "name": "stderr",
          "text": "2023-01-12 13:41:37.587298: I tensorflow/compiler/jit/xla_cpu_device.cc:41] Not creating XLA devices, tf_xla_enable_xla_devices not set\n2023-01-12 13:41:37.593186: I tensorflow/stream_executor/platform/default/dso_loader.cc:49] Successfully opened dynamic library libcuda.so.1\n2023-01-12 13:41:37.709370: I tensorflow/stream_executor/cuda/cuda_gpu_executor.cc:941] successful NUMA node read from SysFS had negative value (-1), but there must be at least one NUMA node, so returning NUMA node zero\n2023-01-12 13:41:37.710137: I tensorflow/core/common_runtime/gpu/gpu_device.cc:1720] Found device 0 with properties: \npciBusID: 0000:00:04.0 name: Tesla T4 computeCapability: 7.5\ncoreClock: 1.59GHz coreCount: 40 deviceMemorySize: 14.75GiB deviceMemoryBandwidth: 298.08GiB/s\n2023-01-12 13:41:37.710298: I tensorflow/stream_executor/cuda/cuda_gpu_executor.cc:941] successful NUMA node read from SysFS had negative value (-1), but there must be at least one NUMA node, so returning NUMA node zero\n2023-01-12 13:41:37.710984: I tensorflow/core/common_runtime/gpu/gpu_device.cc:1720] Found device 1 with properties: \npciBusID: 0000:00:05.0 name: Tesla T4 computeCapability: 7.5\ncoreClock: 1.59GHz coreCount: 40 deviceMemorySize: 14.75GiB deviceMemoryBandwidth: 298.08GiB/s\n2023-01-12 13:41:37.711039: I tensorflow/stream_executor/platform/default/dso_loader.cc:49] Successfully opened dynamic library libcudart.so.11.0\n2023-01-12 13:41:37.778035: I tensorflow/stream_executor/platform/default/dso_loader.cc:49] Successfully opened dynamic library libcublas.so.11\n2023-01-12 13:41:37.778133: I tensorflow/stream_executor/platform/default/dso_loader.cc:49] Successfully opened dynamic library libcublasLt.so.11\n2023-01-12 13:41:37.828887: I tensorflow/stream_executor/platform/default/dso_loader.cc:49] Successfully opened dynamic library libcufft.so.10\n2023-01-12 13:41:37.866406: I tensorflow/stream_executor/platform/default/dso_loader.cc:49] Successfully opened dynamic library libcurand.so.10\n2023-01-12 13:41:37.950059: I tensorflow/stream_executor/platform/default/dso_loader.cc:49] Successfully opened dynamic library libcusolver.so.10\n2023-01-12 13:41:37.979602: I tensorflow/stream_executor/platform/default/dso_loader.cc:49] Successfully opened dynamic library libcusparse.so.11\n2023-01-12 13:41:37.985569: I tensorflow/stream_executor/platform/default/dso_loader.cc:49] Successfully opened dynamic library libcudnn.so.8\n2023-01-12 13:41:37.985747: I tensorflow/stream_executor/cuda/cuda_gpu_executor.cc:941] successful NUMA node read from SysFS had negative value (-1), but there must be at least one NUMA node, so returning NUMA node zero\n2023-01-12 13:41:37.986701: I tensorflow/stream_executor/cuda/cuda_gpu_executor.cc:941] successful NUMA node read from SysFS had negative value (-1), but there must be at least one NUMA node, so returning NUMA node zero\n2023-01-12 13:41:37.987493: I tensorflow/stream_executor/cuda/cuda_gpu_executor.cc:941] successful NUMA node read from SysFS had negative value (-1), but there must be at least one NUMA node, so returning NUMA node zero\n2023-01-12 13:41:37.989730: I tensorflow/stream_executor/cuda/cuda_gpu_executor.cc:941] successful NUMA node read from SysFS had negative value (-1), but there must be at least one NUMA node, so returning NUMA node zero\n2023-01-12 13:41:37.990471: I tensorflow/core/common_runtime/gpu/gpu_device.cc:1862] Adding visible gpu devices: 0, 1\n2023-01-12 13:41:37.995119: I tensorflow/core/platform/cpu_feature_guard.cc:142] This TensorFlow binary is optimized with oneAPI Deep Neural Network Library (oneDNN) to use the following CPU instructions in performance-critical operations:  AVX2 AVX512F FMA\nTo enable them in other operations, rebuild TensorFlow with the appropriate compiler flags.\n2023-01-12 13:41:37.997520: I tensorflow/compiler/jit/xla_gpu_device.cc:99] Not creating XLA devices, tf_xla_enable_xla_devices not set\n2023-01-12 13:41:38.254803: I tensorflow/stream_executor/cuda/cuda_gpu_executor.cc:941] successful NUMA node read from SysFS had negative value (-1), but there must be at least one NUMA node, so returning NUMA node zero\n2023-01-12 13:41:38.255557: I tensorflow/core/common_runtime/gpu/gpu_device.cc:1720] Found device 0 with properties: \npciBusID: 0000:00:04.0 name: Tesla T4 computeCapability: 7.5\ncoreClock: 1.59GHz coreCount: 40 deviceMemorySize: 14.75GiB deviceMemoryBandwidth: 298.08GiB/s\n2023-01-12 13:41:38.255730: I tensorflow/stream_executor/cuda/cuda_gpu_executor.cc:941] successful NUMA node read from SysFS had negative value (-1), but there must be at least one NUMA node, so returning NUMA node zero\n2023-01-12 13:41:38.256409: I tensorflow/core/common_runtime/gpu/gpu_device.cc:1720] Found device 1 with properties: \npciBusID: 0000:00:05.0 name: Tesla T4 computeCapability: 7.5\ncoreClock: 1.59GHz coreCount: 40 deviceMemorySize: 14.75GiB deviceMemoryBandwidth: 298.08GiB/s\n2023-01-12 13:41:38.256472: I tensorflow/stream_executor/platform/default/dso_loader.cc:49] Successfully opened dynamic library libcudart.so.11.0\n2023-01-12 13:41:38.256500: I tensorflow/stream_executor/platform/default/dso_loader.cc:49] Successfully opened dynamic library libcublas.so.11\n2023-01-12 13:41:38.256516: I tensorflow/stream_executor/platform/default/dso_loader.cc:49] Successfully opened dynamic library libcublasLt.so.11\n2023-01-12 13:41:38.256533: I tensorflow/stream_executor/platform/default/dso_loader.cc:49] Successfully opened dynamic library libcufft.so.10\n2023-01-12 13:41:38.256548: I tensorflow/stream_executor/platform/default/dso_loader.cc:49] Successfully opened dynamic library libcurand.so.10\n2023-01-12 13:41:38.256564: I tensorflow/stream_executor/platform/default/dso_loader.cc:49] Successfully opened dynamic library libcusolver.so.10\n2023-01-12 13:41:38.256580: I tensorflow/stream_executor/platform/default/dso_loader.cc:49] Successfully opened dynamic library libcusparse.so.11\n2023-01-12 13:41:38.256596: I tensorflow/stream_executor/platform/default/dso_loader.cc:49] Successfully opened dynamic library libcudnn.so.8\n2023-01-12 13:41:38.256676: I tensorflow/stream_executor/cuda/cuda_gpu_executor.cc:941] successful NUMA node read from SysFS had negative value (-1), but there must be at least one NUMA node, so returning NUMA node zero\n2023-01-12 13:41:38.257351: I tensorflow/stream_executor/cuda/cuda_gpu_executor.cc:941] successful NUMA node read from SysFS had negative value (-1), but there must be at least one NUMA node, so returning NUMA node zero\n2023-01-12 13:41:38.258029: I tensorflow/stream_executor/cuda/cuda_gpu_executor.cc:941] successful NUMA node read from SysFS had negative value (-1), but there must be at least one NUMA node, so returning NUMA node zero\n2023-01-12 13:41:38.258762: I tensorflow/stream_executor/cuda/cuda_gpu_executor.cc:941] successful NUMA node read from SysFS had negative value (-1), but there must be at least one NUMA node, so returning NUMA node zero\n2023-01-12 13:41:38.259438: I tensorflow/core/common_runtime/gpu/gpu_device.cc:1862] Adding visible gpu devices: 0, 1\n2023-01-12 13:41:38.261505: I tensorflow/stream_executor/platform/default/dso_loader.cc:49] Successfully opened dynamic library libcudart.so.11.0\n2023-01-12 13:41:41.244217: I tensorflow/core/common_runtime/gpu/gpu_device.cc:1261] Device interconnect StreamExecutor with strength 1 edge matrix:\n2023-01-12 13:41:41.244269: I tensorflow/core/common_runtime/gpu/gpu_device.cc:1267]      0 1 \n2023-01-12 13:41:41.244280: I tensorflow/core/common_runtime/gpu/gpu_device.cc:1280] 0:   N Y \n2023-01-12 13:41:41.244288: I tensorflow/core/common_runtime/gpu/gpu_device.cc:1280] 1:   Y N \n2023-01-12 13:41:41.249033: I tensorflow/stream_executor/cuda/cuda_gpu_executor.cc:941] successful NUMA node read from SysFS had negative value (-1), but there must be at least one NUMA node, so returning NUMA node zero\n2023-01-12 13:41:41.249910: I tensorflow/stream_executor/cuda/cuda_gpu_executor.cc:941] successful NUMA node read from SysFS had negative value (-1), but there must be at least one NUMA node, so returning NUMA node zero\n2023-01-12 13:41:41.250649: I tensorflow/stream_executor/cuda/cuda_gpu_executor.cc:941] successful NUMA node read from SysFS had negative value (-1), but there must be at least one NUMA node, so returning NUMA node zero\n2023-01-12 13:41:41.251372: I tensorflow/stream_executor/cuda/cuda_gpu_executor.cc:941] successful NUMA node read from SysFS had negative value (-1), but there must be at least one NUMA node, so returning NUMA node zero\n2023-01-12 13:41:41.252025: I tensorflow/core/common_runtime/gpu/gpu_device.cc:1406] Created TensorFlow device (/job:localhost/replica:0/task:0/device:GPU:0 with 13970 MB memory) -> physical GPU (device: 0, name: Tesla T4, pci bus id: 0000:00:04.0, compute capability: 7.5)\n2023-01-12 13:41:41.257352: I tensorflow/stream_executor/cuda/cuda_gpu_executor.cc:941] successful NUMA node read from SysFS had negative value (-1), but there must be at least one NUMA node, so returning NUMA node zero\n2023-01-12 13:41:41.258188: I tensorflow/stream_executor/cuda/cuda_gpu_executor.cc:941] successful NUMA node read from SysFS had negative value (-1), but there must be at least one NUMA node, so returning NUMA node zero\n2023-01-12 13:41:41.258858: I tensorflow/core/common_runtime/gpu/gpu_device.cc:1406] Created TensorFlow device (/job:localhost/replica:0/task:0/device:GPU:1 with 13970 MB memory) -> physical GPU (device: 1, name: Tesla T4, pci bus id: 0000:00:05.0, compute capability: 7.5)\n",
          "output_type": "stream"
        }
      ]
    },
    {
      "cell_type": "code",
      "source": [
        "valid_ds = tf.keras.preprocessing.image_dataset_from_directory(\n",
        "    \"/kaggle/working/input_transformed/\",\n",
        "    color_mode='rgb',\n",
        "    image_size=(255, 255),\n",
        "    shuffle=True,\n",
        "    validation_split=0.2,\n",
        "    subset=\"validation\",\n",
        "    seed=2023,\n",
        ")"
      ],
      "metadata": {
        "execution": {
          "iopub.status.busy": "2023-01-12T13:41:41.682845Z",
          "iopub.execute_input": "2023-01-12T13:41:41.684252Z",
          "iopub.status.idle": "2023-01-12T13:41:41.805795Z",
          "shell.execute_reply.started": "2023-01-12T13:41:41.684213Z",
          "shell.execute_reply": "2023-01-12T13:41:41.804960Z"
        },
        "trusted": true,
        "id": "jZdKHSi9KNR9",
        "outputId": "528e2563-9e09-4833-a62b-68484584a801"
      },
      "execution_count": null,
      "outputs": [
        {
          "name": "stdout",
          "text": "Found 2316 files belonging to 2 classes.\nUsing 463 files for validation.\n",
          "output_type": "stream"
        }
      ]
    },
    {
      "cell_type": "markdown",
      "source": [
        "#Model Training"
      ],
      "metadata": {
        "id": "9iGZbBgSba3r"
      }
    },
    {
      "cell_type": "markdown",
      "source": [
        "Importing and crating the model"
      ],
      "metadata": {
        "id": "frlRjws1biT8"
      }
    },
    {
      "cell_type": "code",
      "source": [
        "from tensorflow.keras.applications.vgg19 import VGG19\n",
        "from tensorflow.keras.layers import GlobalAveragePooling2D, Dense\n",
        "num_classes = 2\n",
        "\n",
        "#importing VGG19 and loading it into another model\n",
        "model = VGG19(weights=\"imagenet\", include_top=False, input_shape=(255, 255, 3))\n",
        "new_model = Sequential()\n",
        "new_model.add(model)\n",
        "\n",
        "#Adding layer on top for adaptation\n",
        "new_model.add(GlobalAveragePooling2D())\n",
        "new_model.add(Dense(256, activation='relu'))\n",
        "new_model.add(Dense(2, activation='softmax'))\n",
        "\n",
        "\n"
      ],
      "metadata": {
        "execution": {
          "iopub.status.busy": "2023-01-12T13:41:41.807378Z",
          "iopub.execute_input": "2023-01-12T13:41:41.807647Z",
          "iopub.status.idle": "2023-01-12T13:41:42.792795Z",
          "shell.execute_reply.started": "2023-01-12T13:41:41.807614Z",
          "shell.execute_reply": "2023-01-12T13:41:42.791876Z"
        },
        "trusted": true,
        "id": "aL89rF6RKNR9",
        "outputId": "0d60defb-389f-4b70-8672-b00da555761d"
      },
      "execution_count": null,
      "outputs": [
        {
          "name": "stdout",
          "text": "Downloading data from https://storage.googleapis.com/tensorflow/keras-applications/vgg19/vgg19_weights_tf_dim_ordering_tf_kernels_notop.h5\n80142336/80134624 [==============================] - 0s 0us/step\n",
          "output_type": "stream"
        }
      ]
    },
    {
      "cell_type": "markdown",
      "source": [
        "##Assessing ressources"
      ],
      "metadata": {
        "id": "pJ6ZByOlh6-m"
      }
    },
    {
      "cell_type": "code",
      "source": [
        "#Showing number of GPU\n",
        "print(\"Num GPUs Available: \", len(tf.config.list_physical_devices('GPU')))"
      ],
      "metadata": {
        "execution": {
          "iopub.status.busy": "2023-01-12T13:41:42.796983Z",
          "iopub.execute_input": "2023-01-12T13:41:42.797273Z",
          "iopub.status.idle": "2023-01-12T13:41:42.814667Z",
          "shell.execute_reply.started": "2023-01-12T13:41:42.797240Z",
          "shell.execute_reply": "2023-01-12T13:41:42.808608Z"
        },
        "trusted": true,
        "id": "w8YlNlY9KNR-",
        "outputId": "3a502de5-c0f4-44ef-a8bc-8df8561fd9a9"
      },
      "execution_count": null,
      "outputs": [
        {
          "name": "stdout",
          "text": "Num GPUs Available:  2\n",
          "output_type": "stream"
        }
      ]
    },
    {
      "cell_type": "code",
      "source": [
        "#Optimization of memory space\n",
        "gc.collect()"
      ],
      "metadata": {
        "execution": {
          "iopub.status.busy": "2023-01-12T13:41:42.819155Z",
          "iopub.execute_input": "2023-01-12T13:41:42.821257Z",
          "iopub.status.idle": "2023-01-12T13:41:43.036396Z",
          "shell.execute_reply.started": "2023-01-12T13:41:42.821222Z",
          "shell.execute_reply": "2023-01-12T13:41:43.033567Z"
        },
        "trusted": true,
        "id": "Qec3_eWvKNR-",
        "outputId": "ea38b209-3b29-4f96-c491-ffdfaeba798c"
      },
      "execution_count": null,
      "outputs": [
        {
          "execution_count": 25,
          "output_type": "execute_result",
          "data": {
            "text/plain": "1395"
          },
          "metadata": {}
        }
      ]
    },
    {
      "cell_type": "markdown",
      "source": [
        "##Defining hyperparameters"
      ],
      "metadata": {
        "id": "L2-T-VSjio9p"
      }
    },
    {
      "cell_type": "code",
      "source": [
        "#Adding hyperparameters and metrics\n",
        "#Categorical Entropy helps when testing to show independence\n",
        "new_model.compile(\n",
        "    optimizer='adam',\n",
        "    loss=tf.keras.losses.SparseCategoricalCrossentropy(from_logits=True),\n",
        "    metrics=[\n",
        "        'acc',\n",
        "        tf.keras.metrics.categorical_accuracy,\n",
        "    ]\n",
        ")\n"
      ],
      "metadata": {
        "execution": {
          "iopub.status.busy": "2023-01-12T13:41:43.041133Z",
          "iopub.execute_input": "2023-01-12T13:41:43.043403Z",
          "iopub.status.idle": "2023-01-12T13:41:43.114972Z",
          "shell.execute_reply.started": "2023-01-12T13:41:43.043360Z",
          "shell.execute_reply": "2023-01-12T13:41:43.114255Z"
        },
        "trusted": true,
        "id": "DoTMvsE2KNR-"
      },
      "execution_count": null,
      "outputs": []
    },
    {
      "cell_type": "code",
      "source": [
        "class myCallback(tf.keras.callbacks.Callback):\n",
        "    # Define the method that checks the accuracy at the end of each epoch\n",
        "    def on_epoch_end(self, epoch, logs={}):\n",
        "        if logs.get('accuracy') is not None and logs.get('accuracy') >= 0.995:#Check for overfitting\n",
        "            print(\"\\nReached 99.5% accuracy so cancelling training!\") \n",
        "            # Stop training once the above condition is met\n",
        "            self.model.stop_training = True"
      ],
      "metadata": {
        "execution": {
          "iopub.status.busy": "2023-01-12T13:41:43.116459Z",
          "iopub.execute_input": "2023-01-12T13:41:43.116878Z",
          "iopub.status.idle": "2023-01-12T13:41:43.123963Z",
          "shell.execute_reply.started": "2023-01-12T13:41:43.116830Z",
          "shell.execute_reply": "2023-01-12T13:41:43.123037Z"
        },
        "trusted": true,
        "id": "TnUJ8KLRKNR-"
      },
      "execution_count": null,
      "outputs": []
    },
    {
      "cell_type": "markdown",
      "source": [
        "##Training the model"
      ],
      "metadata": {
        "id": "iaaVPHBci0Fc"
      }
    },
    {
      "cell_type": "code",
      "source": [
        "epochs=1\n",
        "history = new_model.fit(\n",
        "  train_ds,\n",
        "  validation_data=valid_ds,\n",
        "  epochs=epochs,\n",
        ")"
      ],
      "metadata": {
        "execution": {
          "iopub.status.busy": "2023-01-12T13:41:43.128613Z",
          "iopub.execute_input": "2023-01-12T13:41:43.128833Z",
          "iopub.status.idle": "2023-01-12T13:42:57.022049Z",
          "shell.execute_reply.started": "2023-01-12T13:41:43.128805Z",
          "shell.execute_reply": "2023-01-12T13:42:57.021187Z"
        },
        "trusted": true,
        "id": "oeo5FrreKNR-",
        "outputId": "47b3501b-1c6e-4f44-a8a3-19de49c933d7"
      },
      "execution_count": null,
      "outputs": [
        {
          "name": "stderr",
          "text": "2023-01-12 13:41:43.947371: I tensorflow/compiler/mlir/mlir_graph_optimization_pass.cc:116] None of the MLIR optimization passes are enabled (registered 2)\n2023-01-12 13:41:43.961520: I tensorflow/core/platform/profile_utils/cpu_utils.cc:112] CPU Frequency: 2000210000 Hz\n2023-01-12 13:41:44.231290: I tensorflow/stream_executor/platform/default/dso_loader.cc:49] Successfully opened dynamic library libcublas.so.11\n2023-01-12 13:41:46.252986: I tensorflow/stream_executor/platform/default/dso_loader.cc:49] Successfully opened dynamic library libcublasLt.so.11\n2023-01-12 13:41:46.310476: I tensorflow/stream_executor/platform/default/dso_loader.cc:49] Successfully opened dynamic library libcudnn.so.8\n",
          "output_type": "stream"
        },
        {
          "name": "stdout",
          "text": "58/58 [==============================] - 74s 872ms/step - loss: 19.1662 - acc: 0.4991 - categorical_accuracy: 0.4836 - val_loss: 0.6979 - val_acc: 0.4600 - val_categorical_accuracy: 0.9654\n",
          "output_type": "stream"
        }
      ]
    },
    {
      "cell_type": "markdown",
      "source": [
        "#Displaying Results"
      ],
      "metadata": {
        "id": "8ysBd-gNi6Th"
      }
    },
    {
      "cell_type": "code",
      "source": [
        "#Gathering Validation And training Accuracy\n",
        "acc = history.history['acc']\n",
        "val_acc = history.history['val_acc']\n",
        "\n",
        "#Gathering Loss and validation loss data\n",
        "loss = history.history['loss']\n",
        "val_loss = history.history['val_loss']\n",
        "\n",
        "#Gathering \n",
        "cat_acc = history.history['categorical_accuracy']\n",
        "cat_val_acc = history.history['val_categorical_accuracy']\n",
        "\n",
        "#Gathering the X value\n",
        "epochs_range = range(epochs)\n",
        "\n",
        "\n",
        "plt.figure(figsize=(20, 10))\n",
        "\n",
        "#Displaying Accurraccy\n",
        "plt.subplot(1, 2, 1)\n",
        "plt.plot(epochs_range, acc, label='Training Accuracy')\n",
        "plt.plot(epochs_range, val_acc, label='Validation Accuracy')\n",
        "plt.legend(loc='lower right')\n",
        "plt.title('Training and Validation Accuracy')\n",
        "\n",
        "#Displaying Loss\n",
        "plt.subplot(1, 2, 2)\n",
        "plt.plot(epochs_range, loss, label='Training Loss')\n",
        "plt.plot(epochs_range, val_loss, label='Validation Loss')\n",
        "plt.legend(loc='upper right')\n",
        "plt.title('Training and Validation Loss')\n",
        "\n",
        "#Diplaying the first batch of results\n",
        "plt.show()\n",
        "\n",
        "#Creating new figures\n",
        "plt.figure(figsize=(10, 10))\n",
        "\n",
        "#Displaying Categorical accuracy\n",
        "plt.plot(epochs_range, cat_acc, label='Training Categorical accuracy')\n",
        "plt.plot(epochs_range, cat_val_acc, label='Validation Categorical accuracy')\n",
        "plt.legend(loc='upper right')\n",
        "plt.title('Training and Validation Categorical accuracy')\n",
        "\n",
        "#Diplaying the final batch of results\n",
        "plt.show()\n"
      ],
      "metadata": {
        "execution": {
          "iopub.status.busy": "2023-01-12T14:06:31.030299Z",
          "iopub.execute_input": "2023-01-12T14:06:31.030575Z",
          "iopub.status.idle": "2023-01-12T14:06:31.652398Z",
          "shell.execute_reply.started": "2023-01-12T14:06:31.030545Z",
          "shell.execute_reply": "2023-01-12T14:06:31.651626Z"
        },
        "trusted": true,
        "id": "izGh6_K-KNR_"
      },
      "execution_count": null,
      "outputs": []
    },
    {
      "cell_type": "markdown",
      "source": [
        "#Model usage"
      ],
      "metadata": {
        "id": "g6cKJFyvlc_8"
      }
    },
    {
      "cell_type": "markdown",
      "source": [
        "##Loading data"
      ],
      "metadata": {
        "id": "h0sOMSkalhzb"
      }
    },
    {
      "cell_type": "code",
      "source": [
        "import numpy as np\n",
        "from PIL import Image\n",
        "from skimage import transform\n",
        "from pprint import pprint"
      ],
      "metadata": {
        "execution": {
          "iopub.status.busy": "2023-01-12T14:07:29.510514Z",
          "iopub.execute_input": "2023-01-12T14:07:29.511212Z",
          "iopub.status.idle": "2023-01-12T14:07:29.517649Z",
          "shell.execute_reply.started": "2023-01-12T14:07:29.511157Z",
          "shell.execute_reply": "2023-01-12T14:07:29.516869Z"
        },
        "trusted": true,
        "id": "8VbJ_JgxKNR_"
      },
      "execution_count": null,
      "outputs": []
    },
    {
      "cell_type": "code",
      "source": [
        "def load(filename):\n",
        "   \"\"\"Load and transform and image from a filename, returns an array of size (255,255,3)\"\"\"\n",
        "   np_image = Image.open(filename)\n",
        "   np_image = np.array(np_image).astype('float32')/255\n",
        "   np_image = transform.resize(np_image, (255, 255, 3))\n",
        "   np_image = np.expand_dims(np_image, axis=0)\n",
        "   return np_image"
      ],
      "metadata": {
        "id": "hAuz5PXylirw"
      },
      "execution_count": null,
      "outputs": []
    },
    {
      "cell_type": "markdown",
      "source": [
        "##Starting predictions"
      ],
      "metadata": {
        "id": "4-KE352dmn7E"
      }
    },
    {
      "cell_type": "code",
      "source": [
        "testdata_path = \"/kaggle/input/rsna-screen-breast-cancer-detect-testdata-512x512\"\n",
        "pred_dict = dict()\n",
        "for image_id in os.listdir(testdata_path):\n",
        "    tmpPath = testdata_path + \"/\" + image_id\n",
        "    image = load(tmpPath)\n",
        "    predictions = new_model.predict(image)\n",
        "    score = tf.nn.softmax(predictions[0])\n",
        "    pred_dict[image_id] = float(max(score))"
      ],
      "metadata": {
        "execution": {
          "iopub.status.busy": "2023-01-12T14:07:39.688786Z",
          "iopub.execute_input": "2023-01-12T14:07:39.689054Z",
          "iopub.status.idle": "2023-01-12T14:07:40.027443Z",
          "shell.execute_reply.started": "2023-01-12T14:07:39.689024Z",
          "shell.execute_reply": "2023-01-12T14:07:40.026715Z"
        },
        "trusted": true,
        "id": "3rsndmufKNR_"
      },
      "execution_count": null,
      "outputs": []
    },
    {
      "cell_type": "code",
      "source": [
        "#Creating a result sample\n",
        "testD = {\"10008_L\":{\"736471439.png\":0, \"1591370361.png\":0}, \n",
        "         \"10008_R\":{\"68070693.png\":0,\"361203119.png\":0}}\n",
        "\n",
        "#Filling the sample\n",
        "for k1 in testD:\n",
        "    for k2 in testD[k1]:\n",
        "        testD[k1][k2] = pred_dict[k2]\n",
        "\n",
        "#Pretty priting the results\n",
        "pprint(testD)"
      ],
      "metadata": {
        "execution": {
          "iopub.status.busy": "2023-01-12T14:07:43.978573Z",
          "iopub.execute_input": "2023-01-12T14:07:43.978828Z",
          "iopub.status.idle": "2023-01-12T14:07:43.987875Z",
          "shell.execute_reply.started": "2023-01-12T14:07:43.978798Z",
          "shell.execute_reply": "2023-01-12T14:07:43.987140Z"
        },
        "trusted": true,
        "id": "t1ngVwMjKNR_",
        "outputId": "17ec1d0f-7fb2-44e8-f017-845f65c121f8"
      },
      "execution_count": null,
      "outputs": [
        {
          "name": "stdout",
          "text": "{'10008_L': {'1591370361.png': 0.515083909034729,\n             '736471439.png': 0.5135526061058044},\n '10008_R': {'361203119.png': 0.5051926374435425,\n             '68070693.png': 0.5077361464500427}}\n",
          "output_type": "stream"
        }
      ]
    },
    {
      "cell_type": "markdown",
      "source": [],
      "metadata": {
        "id": "WqKK3m7jnIPu"
      }
    },
    {
      "cell_type": "markdown",
      "source": [
        "##Formatting submission file"
      ],
      "metadata": {
        "id": "ipnOKvEPnIQ-"
      }
    },
    {
      "cell_type": "markdown",
      "source": [
        "We're going to read the submission file in order to understand how do they want it to be displayed."
      ],
      "metadata": {
        "id": "VPVROJoDnNWJ"
      }
    },
    {
      "cell_type": "code",
      "source": [
        "submission = pd.read_csv(\"/kaggle/input/rsna-breast-cancer-detection/sample_submission.csv\")\n",
        "submission"
      ],
      "metadata": {
        "execution": {
          "iopub.status.busy": "2023-01-12T14:07:46.460369Z",
          "iopub.execute_input": "2023-01-12T14:07:46.461213Z",
          "iopub.status.idle": "2023-01-12T14:07:46.481280Z",
          "shell.execute_reply.started": "2023-01-12T14:07:46.461165Z",
          "shell.execute_reply": "2023-01-12T14:07:46.480377Z"
        },
        "trusted": true,
        "id": "4TGmPDO7KNSA",
        "outputId": "f73f2f7e-e540-4116-87d6-adf91c083a93"
      },
      "execution_count": null,
      "outputs": [
        {
          "execution_count": 39,
          "output_type": "execute_result",
          "data": {
            "text/plain": "  prediction_id    cancer\n0       10008_L  0.021168\n1       10008_R  0.021168",
            "text/html": "<div>\n<style scoped>\n    .dataframe tbody tr th:only-of-type {\n        vertical-align: middle;\n    }\n\n    .dataframe tbody tr th {\n        vertical-align: top;\n    }\n\n    .dataframe thead th {\n        text-align: right;\n    }\n</style>\n<table border=\"1\" class=\"dataframe\">\n  <thead>\n    <tr style=\"text-align: right;\">\n      <th></th>\n      <th>prediction_id</th>\n      <th>cancer</th>\n    </tr>\n  </thead>\n  <tbody>\n    <tr>\n      <th>0</th>\n      <td>10008_L</td>\n      <td>0.021168</td>\n    </tr>\n    <tr>\n      <th>1</th>\n      <td>10008_R</td>\n      <td>0.021168</td>\n    </tr>\n  </tbody>\n</table>\n</div>"
          },
          "metadata": {}
        }
      ]
    },
    {
      "cell_type": "markdown",
      "source": [
        "Since we only have 1 result, we will average the results of our predictions for each side of the mammograph"
      ],
      "metadata": {
        "id": "K7zLFLQcnXAz"
      }
    },
    {
      "cell_type": "code",
      "source": [
        "for iterator in range(submission.shape[0]):\n",
        "    tmpKey = submission.prediction_id.iloc[iterator]\n",
        "    submission.cancer.iloc[iterator] = np.mean(list(testD[tmpKey].values()))#Averaging result between images"
      ],
      "metadata": {
        "execution": {
          "iopub.status.busy": "2023-01-12T14:07:48.917894Z",
          "iopub.execute_input": "2023-01-12T14:07:48.918179Z",
          "iopub.status.idle": "2023-01-12T14:07:48.934974Z",
          "shell.execute_reply.started": "2023-01-12T14:07:48.918147Z",
          "shell.execute_reply": "2023-01-12T14:07:48.934155Z"
        },
        "trusted": true,
        "id": "3ijBnFv9KNSA"
      },
      "execution_count": null,
      "outputs": []
    },
    {
      "cell_type": "markdown",
      "source": [
        "We can now submit our results."
      ],
      "metadata": {
        "id": "8O4ffzGwnntD"
      }
    },
    {
      "cell_type": "code",
      "source": [
        "submission.to_csv(\"submission.csv\")\n",
        "submission"
      ],
      "metadata": {
        "execution": {
          "iopub.status.busy": "2023-01-12T14:07:56.576010Z",
          "iopub.execute_input": "2023-01-12T14:07:56.576683Z",
          "iopub.status.idle": "2023-01-12T14:07:56.599685Z",
          "shell.execute_reply.started": "2023-01-12T14:07:56.576645Z",
          "shell.execute_reply": "2023-01-12T14:07:56.598911Z"
        },
        "trusted": true,
        "id": "2eYcvqAyKNSA"
      },
      "execution_count": null,
      "outputs": []
    }
  ]
}